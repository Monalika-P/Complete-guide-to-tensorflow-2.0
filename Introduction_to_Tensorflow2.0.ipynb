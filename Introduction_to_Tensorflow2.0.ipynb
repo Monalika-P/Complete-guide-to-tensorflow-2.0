{
  "nbformat": 4,
  "nbformat_minor": 0,
  "metadata": {
    "colab": {
      "name": "Introduction to Tensorflow 2.0ipynb",
      "provenance": [],
      "authorship_tag": "ABX9TyMZBPxlaxzsdmRbYpoxMQJt",
      "include_colab_link": true
    },
    "kernelspec": {
      "name": "python3",
      "display_name": "Python 3"
    },
    "accelerator": "TPU"
  },
  "cells": [
    {
      "cell_type": "markdown",
      "metadata": {
        "id": "view-in-github",
        "colab_type": "text"
      },
      "source": [
        "<a href=\"https://colab.research.google.com/github/Monalika-P/Complete-guide-to-tensorflow-2.0/blob/master/Introduction_to_Tensorflow2.0.ipynb\" target=\"_parent\"><img src=\"https://colab.research.google.com/assets/colab-badge.svg\" alt=\"Open In Colab\"/></a>"
      ]
    },
    {
      "cell_type": "markdown",
      "metadata": {
        "id": "1Pxy4ufTI9tw",
        "colab_type": "text"
      },
      "source": [
        "**Installing tensorflow 2.0**\n",
        "\n",
        "Command - !pip install tensorflow-gpu==2.0.0-alpha0 \n"
      ]
    },
    {
      "cell_type": "code",
      "metadata": {
        "id": "QwHb9_liKUTw",
        "colab_type": "code",
        "colab": {}
      },
      "source": [
        "# Importing the libraries\n",
        "import tensorflow as tf\n",
        "import numpy as np"
      ],
      "execution_count": 11,
      "outputs": []
    },
    {
      "cell_type": "code",
      "metadata": {
        "id": "JOLzWiYnMWmK",
        "colab_type": "code",
        "colab": {
          "base_uri": "https://localhost:8080/",
          "height": 35
        },
        "outputId": "e0628c43-2ad4-4b36-c92d-830aeabf8901"
      },
      "source": [
        "# Checking the version\n",
        "tf.__version__"
      ],
      "execution_count": 12,
      "outputs": [
        {
          "output_type": "execute_result",
          "data": {
            "application/vnd.google.colaboratory.intrinsic+json": {
              "type": "string"
            },
            "text/plain": [
              "'2.3.0'"
            ]
          },
          "metadata": {
            "tags": []
          },
          "execution_count": 12
        }
      ]
    },
    {
      "cell_type": "markdown",
      "metadata": {
        "id": "PHgYOJUOLs-6",
        "colab_type": "text"
      },
      "source": [
        " **Contants**"
      ]
    },
    {
      "cell_type": "markdown",
      "metadata": {
        "id": "SmeIhrDVLxUP",
        "colab_type": "text"
      },
      "source": [
        " **Defining a constant**"
      ]
    },
    {
      "cell_type": "code",
      "metadata": {
        "id": "3qURmEnPKk1m",
        "colab_type": "code",
        "colab": {}
      },
      "source": [
        "tensor = tf.constant([[23,4],[32,5]])"
      ],
      "execution_count": 13,
      "outputs": []
    },
    {
      "cell_type": "code",
      "metadata": {
        "id": "am_tKnzGMVAG",
        "colab_type": "code",
        "colab": {
          "base_uri": "https://localhost:8080/",
          "height": 67
        },
        "outputId": "1ca17025-d37b-4955-e305-0b33aab6b79f"
      },
      "source": [
        "tensor"
      ],
      "execution_count": 14,
      "outputs": [
        {
          "output_type": "execute_result",
          "data": {
            "text/plain": [
              "<tf.Tensor: shape=(2, 2), dtype=int32, numpy=\n",
              "array([[23,  4],\n",
              "       [32,  5]], dtype=int32)>"
            ]
          },
          "metadata": {
            "tags": []
          },
          "execution_count": 14
        }
      ]
    },
    {
      "cell_type": "code",
      "metadata": {
        "id": "RuHAlkmTNjZX",
        "colab_type": "code",
        "colab": {
          "base_uri": "https://localhost:8080/",
          "height": 34
        },
        "outputId": "c127437c-9274-477d-e4f1-d0f24c231397"
      },
      "source": [
        "tensor.shape"
      ],
      "execution_count": 15,
      "outputs": [
        {
          "output_type": "execute_result",
          "data": {
            "text/plain": [
              "TensorShape([2, 2])"
            ]
          },
          "metadata": {
            "tags": []
          },
          "execution_count": 15
        }
      ]
    },
    {
      "cell_type": "markdown",
      "metadata": {
        "id": "D8r3Mzv6O9yl",
        "colab_type": "text"
      },
      "source": [
        "**Getting the values of a constant**"
      ]
    },
    {
      "cell_type": "code",
      "metadata": {
        "id": "bjjmHJD4NmC_",
        "colab_type": "code",
        "colab": {
          "base_uri": "https://localhost:8080/",
          "height": 50
        },
        "outputId": "af430868-9615-4c2a-efee-d548ac820bbd"
      },
      "source": [
        "tensor.numpy()"
      ],
      "execution_count": 16,
      "outputs": [
        {
          "output_type": "execute_result",
          "data": {
            "text/plain": [
              "array([[23,  4],\n",
              "       [32,  5]], dtype=int32)"
            ]
          },
          "metadata": {
            "tags": []
          },
          "execution_count": 16
        }
      ]
    },
    {
      "cell_type": "code",
      "metadata": {
        "id": "X9fkb4OYPGrb",
        "colab_type": "code",
        "colab": {}
      },
      "source": [
        "numpy_tensor = np.array([[23,4],[45,8]])"
      ],
      "execution_count": 17,
      "outputs": []
    },
    {
      "cell_type": "code",
      "metadata": {
        "id": "bZY9JWGuPOEX",
        "colab_type": "code",
        "colab": {
          "base_uri": "https://localhost:8080/",
          "height": 50
        },
        "outputId": "dca41aa3-d055-48cc-f639-b607957bd15c"
      },
      "source": [
        "numpy_tensor"
      ],
      "execution_count": 18,
      "outputs": [
        {
          "output_type": "execute_result",
          "data": {
            "text/plain": [
              "array([[23,  4],\n",
              "       [45,  8]])"
            ]
          },
          "metadata": {
            "tags": []
          },
          "execution_count": 18
        }
      ]
    },
    {
      "cell_type": "code",
      "metadata": {
        "id": "H7bL7x8CPYET",
        "colab_type": "code",
        "colab": {}
      },
      "source": [
        "tensor_from_numpy = tf.constant(numpy_tensor)"
      ],
      "execution_count": 19,
      "outputs": []
    },
    {
      "cell_type": "code",
      "metadata": {
        "id": "x7i1DSwQRZHu",
        "colab_type": "code",
        "colab": {
          "base_uri": "https://localhost:8080/",
          "height": 67
        },
        "outputId": "482a6995-617a-487c-a660-19d6a66d9222"
      },
      "source": [
        "tensor_from_numpy"
      ],
      "execution_count": 20,
      "outputs": [
        {
          "output_type": "execute_result",
          "data": {
            "text/plain": [
              "<tf.Tensor: shape=(2, 2), dtype=int64, numpy=\n",
              "array([[23,  4],\n",
              "       [45,  8]])>"
            ]
          },
          "metadata": {
            "tags": []
          },
          "execution_count": 20
        }
      ]
    },
    {
      "cell_type": "markdown",
      "metadata": {
        "id": "zgSbKEBDFCT-",
        "colab_type": "text"
      },
      "source": [
        "**Variable**"
      ]
    },
    {
      "cell_type": "markdown",
      "metadata": {
        "id": "rD24Y29IFJfe",
        "colab_type": "text"
      },
      "source": [
        "**Defining a variable**"
      ]
    },
    {
      "cell_type": "code",
      "metadata": {
        "id": "gtys8skQRb33",
        "colab_type": "code",
        "colab": {}
      },
      "source": [
        "tf2_variable = tf.Variable([[1,2,3],[7,8,10]])"
      ],
      "execution_count": 21,
      "outputs": []
    },
    {
      "cell_type": "code",
      "metadata": {
        "id": "vQeu5EXhFSkV",
        "colab_type": "code",
        "colab": {
          "base_uri": "https://localhost:8080/",
          "height": 67
        },
        "outputId": "c773b5c3-f6d3-47b5-c1e4-c96ef930e502"
      },
      "source": [
        "tf2_variable"
      ],
      "execution_count": 22,
      "outputs": [
        {
          "output_type": "execute_result",
          "data": {
            "text/plain": [
              "<tf.Variable 'Variable:0' shape=(2, 3) dtype=int32, numpy=\n",
              "array([[ 1,  2,  3],\n",
              "       [ 7,  8, 10]], dtype=int32)>"
            ]
          },
          "metadata": {
            "tags": []
          },
          "execution_count": 22
        }
      ]
    },
    {
      "cell_type": "markdown",
      "metadata": {
        "id": "ue5HMJ9QFj9h",
        "colab_type": "text"
      },
      "source": [
        "**Getting values of variables**"
      ]
    },
    {
      "cell_type": "code",
      "metadata": {
        "id": "buQ9XNClFike",
        "colab_type": "code",
        "colab": {
          "base_uri": "https://localhost:8080/",
          "height": 87
        },
        "outputId": "5596eb3e-0ed5-4ae3-d21e-012ba7fd0b40"
      },
      "source": [
        "tf2_variable.numpy"
      ],
      "execution_count": 23,
      "outputs": [
        {
          "output_type": "execute_result",
          "data": {
            "text/plain": [
              "<bound method BaseResourceVariable.numpy of <tf.Variable 'Variable:0' shape=(2, 3) dtype=int32, numpy=\n",
              "array([[ 1,  2,  3],\n",
              "       [ 7,  8, 10]], dtype=int32)>>"
            ]
          },
          "metadata": {
            "tags": []
          },
          "execution_count": 23
        }
      ]
    },
    {
      "cell_type": "markdown",
      "metadata": {
        "id": "gnOObLfWFrJ1",
        "colab_type": "text"
      },
      "source": [
        "**Changing a specific variable value**"
      ]
    },
    {
      "cell_type": "code",
      "metadata": {
        "id": "aZI_m_OrFpWV",
        "colab_type": "code",
        "colab": {
          "base_uri": "https://localhost:8080/",
          "height": 67
        },
        "outputId": "ef9c0ae5-ce93-426f-d094-c4fbdade460d"
      },
      "source": [
        "tf2_variable[0,2].assign(100)"
      ],
      "execution_count": 24,
      "outputs": [
        {
          "output_type": "execute_result",
          "data": {
            "text/plain": [
              "<tf.Variable 'UnreadVariable' shape=(2, 3) dtype=int32, numpy=\n",
              "array([[  1,   2, 100],\n",
              "       [  7,   8,  10]], dtype=int32)>"
            ]
          },
          "metadata": {
            "tags": []
          },
          "execution_count": 24
        }
      ]
    },
    {
      "cell_type": "markdown",
      "metadata": {
        "id": "Gn2G2O2WGLy6",
        "colab_type": "text"
      },
      "source": [
        "**Operations with tensors**"
      ]
    },
    {
      "cell_type": "code",
      "metadata": {
        "id": "pz8i_nCmF-60",
        "colab_type": "code",
        "colab": {}
      },
      "source": [
        "tensor = tf.constant([[23,4],[32,5]])"
      ],
      "execution_count": 25,
      "outputs": []
    },
    {
      "cell_type": "code",
      "metadata": {
        "id": "gtyU1eMtGT3t",
        "colab_type": "code",
        "colab": {
          "base_uri": "https://localhost:8080/",
          "height": 67
        },
        "outputId": "2a369717-8ed4-4012-8bbd-7721ca5b89af"
      },
      "source": [
        "tensor*2 #Multiplying a scalar with a tensor"
      ],
      "execution_count": 26,
      "outputs": [
        {
          "output_type": "execute_result",
          "data": {
            "text/plain": [
              "<tf.Tensor: shape=(2, 2), dtype=int32, numpy=\n",
              "array([[46,  8],\n",
              "       [64, 10]], dtype=int32)>"
            ]
          },
          "metadata": {
            "tags": []
          },
          "execution_count": 26
        }
      ]
    },
    {
      "cell_type": "code",
      "metadata": {
        "id": "SSwimcljGWqv",
        "colab_type": "code",
        "colab": {
          "base_uri": "https://localhost:8080/",
          "height": 67
        },
        "outputId": "f85941b4-ac2a-4251-b68e-206e06c7e06d"
      },
      "source": [
        "tensor+2 #Adding a scalar to a tensor"
      ],
      "execution_count": 27,
      "outputs": [
        {
          "output_type": "execute_result",
          "data": {
            "text/plain": [
              "<tf.Tensor: shape=(2, 2), dtype=int32, numpy=\n",
              "array([[25,  6],\n",
              "       [34,  7]], dtype=int32)>"
            ]
          },
          "metadata": {
            "tags": []
          },
          "execution_count": 27
        }
      ]
    },
    {
      "cell_type": "code",
      "metadata": {
        "id": "eSCz59K4GeA3",
        "colab_type": "code",
        "colab": {
          "base_uri": "https://localhost:8080/",
          "height": 67
        },
        "outputId": "6661b8ba-2499-43d5-ed59-0d577a8897bf"
      },
      "source": [
        "tensor -2 #Subtracting a scalar with a tensor"
      ],
      "execution_count": 28,
      "outputs": [
        {
          "output_type": "execute_result",
          "data": {
            "text/plain": [
              "<tf.Tensor: shape=(2, 2), dtype=int32, numpy=\n",
              "array([[21,  2],\n",
              "       [30,  3]], dtype=int32)>"
            ]
          },
          "metadata": {
            "tags": []
          },
          "execution_count": 28
        }
      ]
    },
    {
      "cell_type": "code",
      "metadata": {
        "id": "OlhI-H_6Gm_E",
        "colab_type": "code",
        "colab": {
          "base_uri": "https://localhost:8080/",
          "height": 67
        },
        "outputId": "6fb95c87-edb9-4c91-fb92-e335607fe1c8"
      },
      "source": [
        "tensor/2 #Dividing a scalar by a tensor"
      ],
      "execution_count": 29,
      "outputs": [
        {
          "output_type": "execute_result",
          "data": {
            "text/plain": [
              "<tf.Tensor: shape=(2, 2), dtype=float64, numpy=\n",
              "array([[11.5,  2. ],\n",
              "       [16. ,  2.5]])>"
            ]
          },
          "metadata": {
            "tags": []
          },
          "execution_count": 29
        }
      ]
    },
    {
      "cell_type": "markdown",
      "metadata": {
        "id": "tNI02yDbHV3g",
        "colab_type": "text"
      },
      "source": [
        "**Numpy functions on Tensors**"
      ]
    },
    {
      "cell_type": "code",
      "metadata": {
        "id": "Ftw7fFTIGsFj",
        "colab_type": "code",
        "colab": {
          "base_uri": "https://localhost:8080/",
          "height": 50
        },
        "outputId": "0680f908-8583-4759-87de-c87a09bc679d"
      },
      "source": [
        "np.square(tensor)"
      ],
      "execution_count": 30,
      "outputs": [
        {
          "output_type": "execute_result",
          "data": {
            "text/plain": [
              "array([[ 529,   16],\n",
              "       [1024,   25]], dtype=int32)"
            ]
          },
          "metadata": {
            "tags": []
          },
          "execution_count": 30
        }
      ]
    },
    {
      "cell_type": "code",
      "metadata": {
        "id": "D_eVgF6-Hcbs",
        "colab_type": "code",
        "colab": {
          "base_uri": "https://localhost:8080/",
          "height": 50
        },
        "outputId": "57041abf-36ee-4ee4-9386-a41a0d39cd36"
      },
      "source": [
        "np.sqrt(tensor)"
      ],
      "execution_count": 31,
      "outputs": [
        {
          "output_type": "execute_result",
          "data": {
            "text/plain": [
              "array([[4.79583152, 2.        ],\n",
              "       [5.65685425, 2.23606798]])"
            ]
          },
          "metadata": {
            "tags": []
          },
          "execution_count": 31
        }
      ]
    },
    {
      "cell_type": "markdown",
      "metadata": {
        "id": "ReGXZDxcHiHw",
        "colab_type": "text"
      },
      "source": [
        "**Dot Product between two tensors**"
      ]
    },
    {
      "cell_type": "code",
      "metadata": {
        "id": "lPYOfF4bHf0b",
        "colab_type": "code",
        "colab": {
          "base_uri": "https://localhost:8080/",
          "height": 50
        },
        "outputId": "4265e69c-efc0-4c92-f0b9-c3af17095651"
      },
      "source": [
        "np.dot(tensor,tensor)"
      ],
      "execution_count": 33,
      "outputs": [
        {
          "output_type": "execute_result",
          "data": {
            "text/plain": [
              "array([[657, 112],\n",
              "       [896, 153]], dtype=int32)"
            ]
          },
          "metadata": {
            "tags": []
          },
          "execution_count": 33
        }
      ]
    },
    {
      "cell_type": "markdown",
      "metadata": {
        "id": "hQTIF-34IIaG",
        "colab_type": "text"
      },
      "source": [
        "**String operations**"
      ]
    },
    {
      "cell_type": "code",
      "metadata": {
        "id": "0IHSDY0rHvoJ",
        "colab_type": "code",
        "colab": {}
      },
      "source": [
        "string = tf.constant(\"Hello world\")"
      ],
      "execution_count": 34,
      "outputs": []
    },
    {
      "cell_type": "code",
      "metadata": {
        "id": "W5rqb5PfIQJv",
        "colab_type": "code",
        "colab": {
          "base_uri": "https://localhost:8080/",
          "height": 34
        },
        "outputId": "cdf81572-b155-4a40-abdd-4dd820bd625c"
      },
      "source": [
        "string"
      ],
      "execution_count": 35,
      "outputs": [
        {
          "output_type": "execute_result",
          "data": {
            "text/plain": [
              "<tf.Tensor: shape=(), dtype=string, numpy=b'Hello world'>"
            ]
          },
          "metadata": {
            "tags": []
          },
          "execution_count": 35
        }
      ]
    },
    {
      "cell_type": "markdown",
      "metadata": {
        "id": "NpS0R5o7ITXh",
        "colab_type": "text"
      },
      "source": [
        "**String operations**"
      ]
    },
    {
      "cell_type": "code",
      "metadata": {
        "id": "A4nFTaogIROL",
        "colab_type": "code",
        "colab": {
          "base_uri": "https://localhost:8080/",
          "height": 34
        },
        "outputId": "450c3bae-7956-41e2-ba03-44d0ac679a72"
      },
      "source": [
        "tf.strings.length(string)"
      ],
      "execution_count": 36,
      "outputs": [
        {
          "output_type": "execute_result",
          "data": {
            "text/plain": [
              "<tf.Tensor: shape=(), dtype=int32, numpy=11>"
            ]
          },
          "metadata": {
            "tags": []
          },
          "execution_count": 36
        }
      ]
    },
    {
      "cell_type": "code",
      "metadata": {
        "id": "2HapJWW3IbD_",
        "colab_type": "code",
        "colab": {
          "base_uri": "https://localhost:8080/",
          "height": 54
        },
        "outputId": "e2985289-4e3d-40aa-e007-70d072a734ca"
      },
      "source": [
        "# For decoding\n",
        "tf.strings.unicode_decode(string,\"UTF8\")"
      ],
      "execution_count": 38,
      "outputs": [
        {
          "output_type": "execute_result",
          "data": {
            "text/plain": [
              "<tf.Tensor: shape=(11,), dtype=int32, numpy=array([ 72, 101, 108, 108, 111,  32, 119, 111, 114, 108, 100], dtype=int32)>"
            ]
          },
          "metadata": {
            "tags": []
          },
          "execution_count": 38
        }
      ]
    },
    {
      "cell_type": "markdown",
      "metadata": {
        "id": "tiU8n2E6Ixx9",
        "colab_type": "text"
      },
      "source": [
        "**Storing arrays to strings**"
      ]
    },
    {
      "cell_type": "code",
      "metadata": {
        "id": "lDGUbeIJIt0a",
        "colab_type": "code",
        "colab": {}
      },
      "source": [
        "tf_arrays = tf.constant([\"Hayley Marshall\",\"Nicklaus Michelson\",\"Hope Michelson\"])"
      ],
      "execution_count": 41,
      "outputs": []
    },
    {
      "cell_type": "code",
      "metadata": {
        "id": "2wDD_KeCJD9T",
        "colab_type": "code",
        "colab": {
          "base_uri": "https://localhost:8080/",
          "height": 67
        },
        "outputId": "fe4ed85a-4487-4885-f9e1-4efb3fd65ffd"
      },
      "source": [
        "for strings in tf_arrays:\n",
        "  print(strings)"
      ],
      "execution_count": 42,
      "outputs": [
        {
          "output_type": "stream",
          "text": [
            "tf.Tensor(b'Hayley Marshall', shape=(), dtype=string)\n",
            "tf.Tensor(b'Nicklaus Michelson', shape=(), dtype=string)\n",
            "tf.Tensor(b'Hope Michelson', shape=(), dtype=string)\n"
          ],
          "name": "stdout"
        }
      ]
    },
    {
      "cell_type": "code",
      "metadata": {
        "id": "k-ChnTr2JIpK",
        "colab_type": "code",
        "colab": {}
      },
      "source": [
        ""
      ],
      "execution_count": null,
      "outputs": []
    }
  ]
}